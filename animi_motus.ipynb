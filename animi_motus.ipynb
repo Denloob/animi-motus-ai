{
 "cells": [
  {
   "cell_type": "markdown",
   "metadata": {},
   "source": [
    "<h1 align=\"center\">\n",
    "    <img alt=\"Animi Motus AI Logo\" src=\"images\\logo.png\" width=\"400\" height=\"400\">\n",
    "    <br />\n",
    "    Den Loob - 01.01.1970\n",
    "</h1>\n",
    "\n",
    "<hr />\n",
    "\n",
    "<div dir=\"rtl\">\n",
    "    <h2 align=\"center\"><u>מטרת המחקר</u></h2>\n",
    "    <div align=\"center\">\n",
    "    מטרת המחקר בשם Animi Motus* לעזור לאנשים עם הפרעות בזיהוי הבעות פנים. דוגמאות להפרעות כאלה הן \n",
    "    <a href=\"https://www.ncbi.nlm.nih.gov/pmc/articles/PMC2737612/#b43\">הפרעה דכאונית קשה</a>,\n",
    "    <a href=\"https://www.ncbi.nlm.nih.gov/pmc/articles/PMC2737612/#b32\">סכיזופרניה</a>,\n",
    "    ו<a href=\"https://doi.org/10.1016/j.psychres.2011.12.042\">אישיות נרקיסיסטית</a>.\n",
    "    </div>\n",
    "</div>\n",
    "\n",
    "\\* משמעות של *\"Animi Motus\"* הינה *\"רגשות\"* בלטינית\n",
    "\n",
    "<hr />\n",
    "\n",
    "<div dir=\"rtl\">\n",
    "    <h2 align=\"center\"><u>תיאור הנתונים</u></h2>\n",
    "\n",
    "מאגר הנתונים ששומש במחקר זה נמצא באתר\n",
    "<a href=\"https://www.kaggle.com/datasets/jonathanoheix/face-expression-recognition-dataset\">kaggle</a>\n",
    "תחת הקישור המצורף לשם האתר. מאגר נתונים זה הוכן על ידי\n",
    "<a href=\"https://jonathanoheix.github.io/\">\n",
    "Jonathan Oheix\n",
    "</a>,\n",
    "<a href=\"https://github.com/nakulsingh1289\">\n",
    "Nakul Singh\n",
    "</a>\n",
    "ו<a href=\"http://happyai.epizy.com/\">Sagnik Roy</a>\n",
    "וכולל סך הכל 28821 תמונות לאימון ו7066 תמונות לאימות.\n",
    "\n",
    "</div>\n",
    "\n",
    "<hr />\n",
    "<h2 align=\"center\"><u>חקר נתונים</u></h2>\n",
    "<div dir=\"rtl\">יבוא ספריות לחקר נתונים</div>"
   ]
  },
  {
   "cell_type": "code",
   "execution_count": 1,
   "metadata": {},
   "outputs": [],
   "source": [
    "import os\n",
    "import cv2\n",
    "import numpy as np\n",
    "import pandas as pd\n",
    "import seaborn as sns\n",
    "import matplotlib.pyplot as plt"
   ]
  },
  {
   "cell_type": "markdown",
   "metadata": {},
   "source": [
    "<div dir=\"rtl\">מציאת כמות תמונות בכל אחת מהתיקיות בעזרת לולאת for שמירתם בdataframe ובניית גרף עמודות לפי כמותם</div>"
   ]
  },
  {
   "cell_type": "code",
   "execution_count": 2,
   "metadata": {},
   "outputs": [
    {
     "data": {
      "text/html": [
       "<div>\n",
       "<style scoped>\n",
       "    .dataframe tbody tr th:only-of-type {\n",
       "        vertical-align: middle;\n",
       "    }\n",
       "\n",
       "    .dataframe tbody tr th {\n",
       "        vertical-align: top;\n",
       "    }\n",
       "\n",
       "    .dataframe thead th {\n",
       "        text-align: right;\n",
       "    }\n",
       "</style>\n",
       "<table border=\"1\" class=\"dataframe\">\n",
       "  <thead>\n",
       "    <tr style=\"text-align: right;\">\n",
       "      <th></th>\n",
       "      <th>type</th>\n",
       "      <th>emotion</th>\n",
       "      <th>count</th>\n",
       "    </tr>\n",
       "  </thead>\n",
       "  <tbody>\n",
       "    <tr>\n",
       "      <th>0</th>\n",
       "      <td>train</td>\n",
       "      <td>angry</td>\n",
       "      <td>3993</td>\n",
       "    </tr>\n",
       "    <tr>\n",
       "      <th>1</th>\n",
       "      <td>train</td>\n",
       "      <td>disgust</td>\n",
       "      <td>436</td>\n",
       "    </tr>\n",
       "    <tr>\n",
       "      <th>2</th>\n",
       "      <td>train</td>\n",
       "      <td>fear</td>\n",
       "      <td>4103</td>\n",
       "    </tr>\n",
       "    <tr>\n",
       "      <th>3</th>\n",
       "      <td>train</td>\n",
       "      <td>happy</td>\n",
       "      <td>7164</td>\n",
       "    </tr>\n",
       "    <tr>\n",
       "      <th>4</th>\n",
       "      <td>train</td>\n",
       "      <td>neutral</td>\n",
       "      <td>4982</td>\n",
       "    </tr>\n",
       "    <tr>\n",
       "      <th>5</th>\n",
       "      <td>train</td>\n",
       "      <td>sad</td>\n",
       "      <td>4938</td>\n",
       "    </tr>\n",
       "    <tr>\n",
       "      <th>6</th>\n",
       "      <td>train</td>\n",
       "      <td>surprise</td>\n",
       "      <td>3205</td>\n",
       "    </tr>\n",
       "    <tr>\n",
       "      <th>7</th>\n",
       "      <td>validation</td>\n",
       "      <td>angry</td>\n",
       "      <td>960</td>\n",
       "    </tr>\n",
       "    <tr>\n",
       "      <th>8</th>\n",
       "      <td>validation</td>\n",
       "      <td>disgust</td>\n",
       "      <td>111</td>\n",
       "    </tr>\n",
       "    <tr>\n",
       "      <th>9</th>\n",
       "      <td>validation</td>\n",
       "      <td>fear</td>\n",
       "      <td>1018</td>\n",
       "    </tr>\n",
       "    <tr>\n",
       "      <th>10</th>\n",
       "      <td>validation</td>\n",
       "      <td>happy</td>\n",
       "      <td>1825</td>\n",
       "    </tr>\n",
       "    <tr>\n",
       "      <th>11</th>\n",
       "      <td>validation</td>\n",
       "      <td>neutral</td>\n",
       "      <td>1216</td>\n",
       "    </tr>\n",
       "    <tr>\n",
       "      <th>12</th>\n",
       "      <td>validation</td>\n",
       "      <td>sad</td>\n",
       "      <td>1139</td>\n",
       "    </tr>\n",
       "    <tr>\n",
       "      <th>13</th>\n",
       "      <td>validation</td>\n",
       "      <td>surprise</td>\n",
       "      <td>797</td>\n",
       "    </tr>\n",
       "  </tbody>\n",
       "</table>\n",
       "</div>"
      ],
      "text/plain": [
       "          type   emotion  count\n",
       "0        train     angry   3993\n",
       "1        train   disgust    436\n",
       "2        train      fear   4103\n",
       "3        train     happy   7164\n",
       "4        train   neutral   4982\n",
       "5        train       sad   4938\n",
       "6        train  surprise   3205\n",
       "7   validation     angry    960\n",
       "8   validation   disgust    111\n",
       "9   validation      fear   1018\n",
       "10  validation     happy   1825\n",
       "11  validation   neutral   1216\n",
       "12  validation       sad   1139\n",
       "13  validation  surprise    797"
      ]
     },
     "execution_count": 2,
     "metadata": {},
     "output_type": "execute_result"
    }
   ],
   "source": [
    "\n",
    "all_emotion_types = sorted(os.listdir(\"dataset/train/\"))\n",
    "epc = { # emotion_picture_count\n",
    "    \"type\": [], # train or validation\n",
    "    \"emotion\": [], # angry, sad, happy and etc\n",
    "    \"count\": [], # int\n",
    "    \n",
    "}\n",
    "# fill epc (emotion_picture_count) with `emotion_name: emotion_pictures_count`\n",
    "for emotion_type in all_emotion_types:\n",
    "    train_emotion_len = len(os.listdir(\"dataset/train/\"+emotion_type))\n",
    "    validation_emotion_len = len(os.listdir(\"dataset/validation/\"+emotion_type))\n",
    "    \n",
    "    epc[\"type\"].append(\"train\")\n",
    "    epc[\"emotion\"].append(emotion_type)\n",
    "    epc[\"count\"].append(train_emotion_len)\n",
    "    \n",
    "    epc[\"type\"].append(\"validation\")\n",
    "    epc[\"emotion\"].append(emotion_type)\n",
    "    epc[\"count\"].append(validation_emotion_len)\n",
    "    \n",
    "emotion_count_df = pd.DataFrame(epc).sort_values(\"type\")\n",
    "emotion_count_df.reset_index(drop=True, inplace=True)\n",
    "emotion_count_df"
   ]
  },
  {
   "cell_type": "code",
   "execution_count": 3,
   "metadata": {},
   "outputs": [
    {
     "data": {
      "image/png": "[encoded data removed]",
      "text/plain": [
       "<Figure size 432x288 with 1 Axes>"
      ]
     },
     "metadata": {},
     "output_type": "display_data"
    }
   ],
   "source": [
    "sns.set(style=\"white\")\n",
    "sns.barplot(x=\"emotion\", y=\"count\", hue=\"type\", data=emotion_count_df)\n",
    "plt.title(\"Facial Expressions in validation/train Directories\", fontsize=16)\n",
    "plt.xlabel(\"File Count\")\n",
    "plt.ylabel(\"Emotion Type\")\n",
    "plt.show()"
   ]
  },
  {
   "cell_type": "markdown",
   "metadata": {},
   "source": []
  },
  {
   "cell_type": "markdown",
   "metadata": {},
   "source": [
    "<div dir=\"rtl\">בעזרת ספריית random חישוב של path של 16 תמונות אקראיות מהתיקיית train והצגתם</div>"
   ]
  },
  {
   "cell_type": "code",
   "execution_count": 4,
   "metadata": {},
   "outputs": [
    {
     "data": {
      "image/png": "[encoded data removed]",
      "text/plain": [
       "<Figure size 1152x1152 with 16 Axes>"
      ]
     },
     "metadata": {},
     "output_type": "display_data"
    }
   ],
   "source": [
    "import random\n",
    "get_random_child_file_path = lambda parent_path: os.path.join(parent_path, random.choice(os.listdir(parent_path)))\n",
    "\n",
    "f, axarr = plt.subplots(4, 4, figsize=(16, 16))\n",
    "r, c = 0, 0\n",
    "\n",
    "for i in range(16):\n",
    "    if (i % 4 == 0 and i != 0):\n",
    "        r += 1\n",
    "        c = 0\n",
    "    emotion = get_random_child_file_path(\"dataset\\\\train\\\\\")\n",
    "    img = cv2.imread(get_random_child_file_path(emotion))\n",
    "    axarr[r, c].imshow(img)\n",
    "    axarr[r, c].set_title(os.path.basename(emotion), fontsize=16)\n",
    "    axarr[r, c].axis('off')\n",
    "    c += 1\n",
    "plt.show()"
   ]
  },
  {
   "cell_type": "markdown",
   "metadata": {},
   "source": [
    "<hr />\n",
    "<h2 align=\"center\"><u>למידת מכונה</u></h2>"
   ]
  },
  {
   "cell_type": "markdown",
   "metadata": {},
   "source": [
    "<div dir=\"rtl\">יבוא ספריות ללמידת מכונה</div>"
   ]
  },
  {
   "cell_type": "code",
   "execution_count": 5,
   "metadata": {},
   "outputs": [],
   "source": [
    "import mediapipe as mp"
   ]
  },
  {
   "cell_type": "markdown",
   "metadata": {},
   "source": [
    "<div dir=\"rtl\">הצהרת פונקציות לזיהוי פנים וויזואליזציתם של הנקודות וחלקים של הפנים</div>"
   ]
  },
  {
   "cell_type": "code",
   "execution_count": 6,
   "metadata": {},
   "outputs": [],
   "source": [
    "mp_drawing = mp.solutions.drawing_utils\n",
    "mp_drawing_styles = mp.solutions.drawing_styles\n",
    "mp_face_mesh = mp.solutions.face_mesh\n",
    "def find_face(image):\n",
    "    with mp_face_mesh.FaceMesh(\n",
    "        static_image_mode=True,\n",
    "        max_num_faces=1,\n",
    "        min_detection_confidence=0.5) as face_mesh:\n",
    "        \n",
    "        results = face_mesh.process(cv2.cvtColor(image, cv2.COLOR_BGR2RGB))\n",
    "    return results\n",
    "def draw_landmarks(image, landmarks):\n",
    "    mp_drawing.draw_landmarks(\n",
    "        image=annotated_image,\n",
    "        landmark_list=landmarks,\n",
    "        connections=mp_face_mesh.FACEMESH_TESSELATION,\n",
    "        landmark_drawing_spec=None,\n",
    "        connection_drawing_spec=mp_drawing_styles\n",
    "        .get_default_face_mesh_tesselation_style())\n",
    "    mp_drawing.draw_landmarks(\n",
    "        image=annotated_image,\n",
    "        landmark_list=landmarks,\n",
    "        connections=mp_face_mesh.FACEMESH_CONTOURS,\n",
    "        landmark_drawing_spec=None,\n",
    "        connection_drawing_spec=mp_drawing_styles\n",
    "        .get_default_face_mesh_contours_style())\n",
    "    return image"
   ]
  },
  {
   "cell_type": "markdown",
   "metadata": {},
   "source": [
    "<div dir=\"rtl\">מציאת תמונה אקראית והצגתה עם וללא ויזואליזציה של חלקים מהפנים</div>"
   ]
  },
  {
   "cell_type": "code",
   "execution_count": 7,
   "metadata": {},
   "outputs": [
    {
     "data": {
      "image/png": "[encoded data removed]",
      "text/plain": [
       "<Figure size 864x864 with 2 Axes>"
      ]
     },
     "metadata": {},
     "output_type": "display_data"
    }
   ],
   "source": [
    "get_random_child_file_path = lambda parent_path: os.path.join(parent_path, random.choice(os.listdir(parent_path)))\n",
    "path = get_random_child_file_path(get_random_child_file_path(\"dataset\\\\train\\\\\"))\n",
    "image = cv2.imread(path)\n",
    "multi_face_landmarks = find_face(image).multi_face_landmarks\n",
    "if not multi_face_landmarks:\n",
    "    plt.imshow(image)\n",
    "    raise Exception(f\"no face found {path}\")\n",
    "face_landmarks = multi_face_landmarks[0]\n",
    "annotated_image = image.copy()\n",
    "draw_landmarks(annotated_image, face_landmarks)\n",
    "\n",
    "      \n",
    "_, axarr = plt.subplots(1, 2, figsize=(12, 12))\n",
    "axarr[0].imshow(image)\n",
    "axarr[1].imshow(annotated_image)\n",
    "plt.show()"
   ]
  },
  {
   "cell_type": "markdown",
   "metadata": {},
   "source": [
    "<div dir=\"rtl\">הדפסת הנקודות שהוצגו לעיל כקואורדינטות על התמונה</div>"
   ]
  },
  {
   "cell_type": "code",
   "execution_count": 8,
   "metadata": {},
   "outputs": [
    {
     "data": {
      "text/html": [
       "<div>\n",
       "<style scoped>\n",
       "    .dataframe tbody tr th:only-of-type {\n",
       "        vertical-align: middle;\n",
       "    }\n",
       "\n",
       "    .dataframe tbody tr th {\n",
       "        vertical-align: top;\n",
       "    }\n",
       "\n",
       "    .dataframe thead th {\n",
       "        text-align: right;\n",
       "    }\n",
       "</style>\n",
       "<table border=\"1\" class=\"dataframe\">\n",
       "  <thead>\n",
       "    <tr style=\"text-align: right;\">\n",
       "      <th></th>\n",
       "      <th>x</th>\n",
       "      <th>y</th>\n",
       "      <th>z</th>\n",
       "    </tr>\n",
       "  </thead>\n",
       "  <tbody>\n",
       "    <tr>\n",
       "      <th>0</th>\n",
       "      <td>0.544041</td>\n",
       "      <td>0.694410</td>\n",
       "      <td>-0.109703</td>\n",
       "    </tr>\n",
       "    <tr>\n",
       "      <th>1</th>\n",
       "      <td>0.572504</td>\n",
       "      <td>0.582392</td>\n",
       "      <td>-0.207897</td>\n",
       "    </tr>\n",
       "    <tr>\n",
       "      <th>2</th>\n",
       "      <td>0.553765</td>\n",
       "      <td>0.617986</td>\n",
       "      <td>-0.120362</td>\n",
       "    </tr>\n",
       "    <tr>\n",
       "      <th>3</th>\n",
       "      <td>0.529686</td>\n",
       "      <td>0.466495</td>\n",
       "      <td>-0.158932</td>\n",
       "    </tr>\n",
       "    <tr>\n",
       "      <th>4</th>\n",
       "      <td>0.574379</td>\n",
       "      <td>0.545771</td>\n",
       "      <td>-0.218155</td>\n",
       "    </tr>\n",
       "    <tr>\n",
       "      <th>...</th>\n",
       "      <td>...</td>\n",
       "      <td>...</td>\n",
       "      <td>...</td>\n",
       "    </tr>\n",
       "    <tr>\n",
       "      <th>463</th>\n",
       "      <td>0.606442</td>\n",
       "      <td>0.388144</td>\n",
       "      <td>0.044430</td>\n",
       "    </tr>\n",
       "    <tr>\n",
       "      <th>464</th>\n",
       "      <td>0.593569</td>\n",
       "      <td>0.395114</td>\n",
       "      <td>0.017828</td>\n",
       "    </tr>\n",
       "    <tr>\n",
       "      <th>465</th>\n",
       "      <td>0.589781</td>\n",
       "      <td>0.399625</td>\n",
       "      <td>-0.011764</td>\n",
       "    </tr>\n",
       "    <tr>\n",
       "      <th>466</th>\n",
       "      <td>0.752989</td>\n",
       "      <td>0.386136</td>\n",
       "      <td>0.092019</td>\n",
       "    </tr>\n",
       "    <tr>\n",
       "      <th>467</th>\n",
       "      <td>0.772036</td>\n",
       "      <td>0.372819</td>\n",
       "      <td>0.097061</td>\n",
       "    </tr>\n",
       "  </tbody>\n",
       "</table>\n",
       "<p>468 rows × 3 columns</p>\n",
       "</div>"
      ],
      "text/plain": [
       "            x         y         z\n",
       "0    0.544041  0.694410 -0.109703\n",
       "1    0.572504  0.582392 -0.207897\n",
       "2    0.553765  0.617986 -0.120362\n",
       "3    0.529686  0.466495 -0.158932\n",
       "4    0.574379  0.545771 -0.218155\n",
       "..        ...       ...       ...\n",
       "463  0.606442  0.388144  0.044430\n",
       "464  0.593569  0.395114  0.017828\n",
       "465  0.589781  0.399625 -0.011764\n",
       "466  0.752989  0.386136  0.092019\n",
       "467  0.772036  0.372819  0.097061\n",
       "\n",
       "[468 rows x 3 columns]"
      ]
     },
     "execution_count": 8,
     "metadata": {},
     "output_type": "execute_result"
    }
   ],
   "source": [
    "landmarks_dict = {\n",
    "    \"x\": [],\n",
    "    \"y\": [],\n",
    "    \"z\": [],\n",
    "}\n",
    "for lm in face_landmarks.landmark:\n",
    "    landmarks_dict['x'].append(lm.x)\n",
    "    landmarks_dict['y'].append(lm.y)\n",
    "    landmarks_dict['z'].append(lm.z)\n",
    "pd.DataFrame(landmarks_dict)"
   ]
  },
  {
   "cell_type": "markdown",
   "metadata": {},
   "source": [
    "<h3 align=\"center\"><u>Generating a CSV File of Landmarks</u></h3>"
   ]
  },
  {
   "cell_type": "markdown",
   "metadata": {},
   "source": [
    "<div dir=\"rtl\">יבוא ספריות לבניית קובץ csv אשר ישמש ללמידת מכונה</div>"
   ]
  },
  {
   "cell_type": "code",
   "execution_count": 9,
   "metadata": {},
   "outputs": [],
   "source": [
    "import csv\n",
    "from collections import deque"
   ]
  },
  {
   "cell_type": "markdown",
   "metadata": {},
   "source": [
    "<div dir=\"rtl\">בניית קובץ csv בעזרת לולאת for ופונקציות שהוגדרו לעיל, ושמירת התוצאות בקובץ.</div>"
   ]
  },
  {
   "cell_type": "code",
   "execution_count": 10,
   "metadata": {},
   "outputs": [
    {
     "name": "stdout",
     "output_type": "stream",
     "text": [
      "train_landmarks.csv exists, continuing to the next data usage type...\n",
      "validation_landmarks.csv exists, continuing to the next data usage type...\n",
      "Done\n"
     ]
    }
   ],
   "source": [
    "face_not_found_dict = {}\n",
    "for data_usage_type in ['train', 'validation']:\n",
    "    if os.path.exists(f\"{data_usage_type}_landmarks.csv\"):\n",
    "        print(f\"{data_usage_type}_landmarks.csv exists, continuing to the next data usage type...\")\n",
    "        continue\n",
    "    face_not_found_dict[data_usage_type] = face_not_found = deque()\n",
    "    with open(f'{data_usage_type}_landmarks.csv', 'w') as f:\n",
    "        writer = csv.writer(f)\n",
    "        \n",
    "        header=['emotion']+[\"xyz\"[i%3]+str(j) for i, j in zip(range(468*3), [k for k in range(468) for _ in range(3)])] # 468 rows * 3 columns\n",
    "        # header looks like: [emotion, x0, y0, z0, x1, y1, ..., z467]\n",
    "        \n",
    "        writer.writerow(header)\n",
    "        \n",
    "        # for each emotion\n",
    "        for e_i, e_type in enumerate(all_emotion_types):\n",
    "            path = f\"dataset/{data_usage_type}/{e_type}/\"\n",
    "            all_image_names = os.listdir(path)\n",
    "            print(f\"working on {data_usage_type}/{e_type}\")\n",
    "            # for each image of this emotion type\n",
    "            for image_name in all_image_names:\n",
    "                image_path = path+image_name\n",
    "                image = cv2.imread(image_path)\n",
    "                \n",
    "                multi_face_landmarks = find_face(image).multi_face_landmarks\n",
    "                # if no face found, add to list\n",
    "                if not multi_face_landmarks:\n",
    "                    face_not_found.append(image_path)\n",
    "                    continue\n",
    "                y = [i.y for i in multi_face_landmarks[0].landmark]\n",
    "                x = [i.x for i in multi_face_landmarks[0].landmark]\n",
    "                z = [i.z for i in multi_face_landmarks[0].landmark]\n",
    "                \n",
    "                data = np.array(list(zip(x, y, z))).reshape(-1)\n",
    "                data = np.concatenate(([e_i],data))\n",
    "                writer.writerow(data)\n",
    "                \n",
    "    print(f\"Done {data_usage_type}. {len(face_not_found)=}\")\n",
    "print(\"Done\")\n",
    "            \n",
    "        \n",
    "        \n",
    "        \n",
    "    \n",
    "    "
   ]
  },
  {
   "cell_type": "markdown",
   "metadata": {},
   "source": [
    "<div dir=\"rtl\">שמירת שמות של הקבצים עם פנים שלא זיוהתו.</div>"
   ]
  },
  {
   "cell_type": "code",
   "execution_count": 11,
   "metadata": {},
   "outputs": [
    {
     "name": "stdout",
     "output_type": "stream",
     "text": [
      "train is not in face_not_found_dict, continuing to the next data usage type...\n",
      "validation is not in face_not_found_dict, continuing to the next data usage type...\n",
      "Done!\n"
     ]
    }
   ],
   "source": [
    "for data_usage_type in [\"train\", \"validation\"]:\n",
    "    \n",
    "    if data_usage_type not in face_not_found_dict:\n",
    "        print(f\"{data_usage_type} is not in face_not_found_dict, continuing to the next data usage type...\")\n",
    "        continue\n",
    "    if os.path.exists(f\"{data_usage_type}_no_face_found.csv\"):\n",
    "        print(f\"{data_usage_type}_no_face_found.csv exists, continuing to the next data usage type...\")\n",
    "        continue\n",
    "    \n",
    "    with open(f\"{data_usage_type}_no_face_found.csv\", \"w\") as f:\n",
    "        writer = csv.writer(f)\n",
    "        writer.writerow(face_not_found_dict[data_usage_type])\n",
    "print(\"Done!\")"
   ]
  },
  {
   "cell_type": "markdown",
   "metadata": {},
   "source": [
    "<div dir=\"rtl\">טעינת הdataset והדפסה של חמש שורות הראשונות שלו</div>"
   ]
  },
  {
   "cell_type": "code",
   "execution_count": 12,
   "metadata": {},
   "outputs": [],
   "source": [
    "train_df = pd.read_csv('train_landmarks.csv')\n",
    "test_df = pd.read_csv('validation_landmarks.csv')"
   ]
  },
  {
   "cell_type": "code",
   "execution_count": 13,
   "metadata": {},
   "outputs": [
    {
     "data": {
      "text/html": [
       "<div>\n",
       "<style scoped>\n",
       "    .dataframe tbody tr th:only-of-type {\n",
       "        vertical-align: middle;\n",
       "    }\n",
       "\n",
       "    .dataframe tbody tr th {\n",
       "        vertical-align: top;\n",
       "    }\n",
       "\n",
       "    .dataframe thead th {\n",
       "        text-align: right;\n",
       "    }\n",
       "</style>\n",
       "<table border=\"1\" class=\"dataframe\">\n",
       "  <thead>\n",
       "    <tr style=\"text-align: right;\">\n",
       "      <th></th>\n",
       "      <th>emotion</th>\n",
       "      <th>x0</th>\n",
       "      <th>y0</th>\n",
       "      <th>z0</th>\n",
       "      <th>x1</th>\n",
       "      <th>y1</th>\n",
       "      <th>z1</th>\n",
       "      <th>x2</th>\n",
       "      <th>y2</th>\n",
       "      <th>z2</th>\n",
       "      <th>...</th>\n",
       "      <th>z464</th>\n",
       "      <th>x465</th>\n",
       "      <th>y465</th>\n",
       "      <th>z465</th>\n",
       "      <th>x466</th>\n",
       "      <th>y466</th>\n",
       "      <th>z466</th>\n",
       "      <th>x467</th>\n",
       "      <th>y467</th>\n",
       "      <th>z467</th>\n",
       "    </tr>\n",
       "  </thead>\n",
       "  <tbody>\n",
       "    <tr>\n",
       "      <th>0</th>\n",
       "      <td>0.0</td>\n",
       "      <td>0.531052</td>\n",
       "      <td>0.766528</td>\n",
       "      <td>-0.066078</td>\n",
       "      <td>0.590875</td>\n",
       "      <td>0.653876</td>\n",
       "      <td>-0.152624</td>\n",
       "      <td>0.539522</td>\n",
       "      <td>0.676948</td>\n",
       "      <td>-0.071534</td>\n",
       "      <td>...</td>\n",
       "      <td>0.019166</td>\n",
       "      <td>0.574877</td>\n",
       "      <td>0.426415</td>\n",
       "      <td>-0.009140</td>\n",
       "      <td>0.690913</td>\n",
       "      <td>0.378875</td>\n",
       "      <td>0.146359</td>\n",
       "      <td>0.702611</td>\n",
       "      <td>0.372493</td>\n",
       "      <td>0.153546</td>\n",
       "    </tr>\n",
       "    <tr>\n",
       "      <th>1</th>\n",
       "      <td>0.0</td>\n",
       "      <td>0.489051</td>\n",
       "      <td>0.754891</td>\n",
       "      <td>-0.103594</td>\n",
       "      <td>0.459130</td>\n",
       "      <td>0.616146</td>\n",
       "      <td>-0.195686</td>\n",
       "      <td>0.473762</td>\n",
       "      <td>0.653929</td>\n",
       "      <td>-0.107277</td>\n",
       "      <td>...</td>\n",
       "      <td>0.001024</td>\n",
       "      <td>0.510184</td>\n",
       "      <td>0.410119</td>\n",
       "      <td>-0.025311</td>\n",
       "      <td>0.705920</td>\n",
       "      <td>0.354981</td>\n",
       "      <td>0.023032</td>\n",
       "      <td>0.725784</td>\n",
       "      <td>0.337364</td>\n",
       "      <td>0.022208</td>\n",
       "    </tr>\n",
       "    <tr>\n",
       "      <th>2</th>\n",
       "      <td>0.0</td>\n",
       "      <td>0.513394</td>\n",
       "      <td>0.768508</td>\n",
       "      <td>-0.140086</td>\n",
       "      <td>0.520900</td>\n",
       "      <td>0.619091</td>\n",
       "      <td>-0.249280</td>\n",
       "      <td>0.518641</td>\n",
       "      <td>0.663883</td>\n",
       "      <td>-0.138140</td>\n",
       "      <td>...</td>\n",
       "      <td>0.009991</td>\n",
       "      <td>0.587300</td>\n",
       "      <td>0.424491</td>\n",
       "      <td>-0.025031</td>\n",
       "      <td>0.820161</td>\n",
       "      <td>0.407064</td>\n",
       "      <td>0.068830</td>\n",
       "      <td>0.841950</td>\n",
       "      <td>0.397191</td>\n",
       "      <td>0.070206</td>\n",
       "    </tr>\n",
       "    <tr>\n",
       "      <th>3</th>\n",
       "      <td>0.0</td>\n",
       "      <td>0.471052</td>\n",
       "      <td>0.694842</td>\n",
       "      <td>-0.110672</td>\n",
       "      <td>0.477409</td>\n",
       "      <td>0.570939</td>\n",
       "      <td>-0.185398</td>\n",
       "      <td>0.478078</td>\n",
       "      <td>0.607723</td>\n",
       "      <td>-0.098481</td>\n",
       "      <td>...</td>\n",
       "      <td>-0.000122</td>\n",
       "      <td>0.560386</td>\n",
       "      <td>0.398199</td>\n",
       "      <td>-0.024131</td>\n",
       "      <td>0.759891</td>\n",
       "      <td>0.375499</td>\n",
       "      <td>0.032051</td>\n",
       "      <td>0.781655</td>\n",
       "      <td>0.363766</td>\n",
       "      <td>0.031378</td>\n",
       "    </tr>\n",
       "    <tr>\n",
       "      <th>4</th>\n",
       "      <td>0.0</td>\n",
       "      <td>0.496296</td>\n",
       "      <td>0.749524</td>\n",
       "      <td>-0.041758</td>\n",
       "      <td>0.488255</td>\n",
       "      <td>0.687777</td>\n",
       "      <td>-0.176013</td>\n",
       "      <td>0.492631</td>\n",
       "      <td>0.700287</td>\n",
       "      <td>-0.075950</td>\n",
       "      <td>...</td>\n",
       "      <td>-0.064295</td>\n",
       "      <td>0.552662</td>\n",
       "      <td>0.455754</td>\n",
       "      <td>-0.083548</td>\n",
       "      <td>0.749166</td>\n",
       "      <td>0.400290</td>\n",
       "      <td>-0.037998</td>\n",
       "      <td>0.767254</td>\n",
       "      <td>0.384250</td>\n",
       "      <td>-0.039437</td>\n",
       "    </tr>\n",
       "  </tbody>\n",
       "</table>\n",
       "<p>5 rows × 1405 columns</p>\n",
       "</div>"
      ],
      "text/plain": [
       "   emotion        x0        y0        z0        x1        y1        z1  \\\n",
       "0      0.0  0.531052  0.766528 -0.066078  0.590875  0.653876 -0.152624   \n",
       "1      0.0  0.489051  0.754891 -0.103594  0.459130  0.616146 -0.195686   \n",
       "2      0.0  0.513394  0.768508 -0.140086  0.520900  0.619091 -0.249280   \n",
       "3      0.0  0.471052  0.694842 -0.110672  0.477409  0.570939 -0.185398   \n",
       "4      0.0  0.496296  0.749524 -0.041758  0.488255  0.687777 -0.176013   \n",
       "\n",
       "         x2        y2        z2  ...      z464      x465      y465      z465  \\\n",
       "0  0.539522  0.676948 -0.071534  ...  0.019166  0.574877  0.426415 -0.009140   \n",
       "1  0.473762  0.653929 -0.107277  ...  0.001024  0.510184  0.410119 -0.025311   \n",
       "2  0.518641  0.663883 -0.138140  ...  0.009991  0.587300  0.424491 -0.025031   \n",
       "3  0.478078  0.607723 -0.098481  ... -0.000122  0.560386  0.398199 -0.024131   \n",
       "4  0.492631  0.700287 -0.075950  ... -0.064295  0.552662  0.455754 -0.083548   \n",
       "\n",
       "       x466      y466      z466      x467      y467      z467  \n",
       "0  0.690913  0.378875  0.146359  0.702611  0.372493  0.153546  \n",
       "1  0.705920  0.354981  0.023032  0.725784  0.337364  0.022208  \n",
       "2  0.820161  0.407064  0.068830  0.841950  0.397191  0.070206  \n",
       "3  0.759891  0.375499  0.032051  0.781655  0.363766  0.031378  \n",
       "4  0.749166  0.400290 -0.037998  0.767254  0.384250 -0.039437  \n",
       "\n",
       "[5 rows x 1405 columns]"
      ]
     },
     "execution_count": 13,
     "metadata": {},
     "output_type": "execute_result"
    }
   ],
   "source": [
    "train_df.head()"
   ]
  },
  {
   "cell_type": "markdown",
   "metadata": {},
   "source": [
    "<h3 align=\"center\"><u>Training KNN model</u></h3>"
   ]
  },
  {
   "cell_type": "markdown",
   "metadata": {},
   "source": [
    "<div dir=\"rtl\">יבוא ספריות ללמידת מכונה</div>"
   ]
  },
  {
   "cell_type": "code",
   "execution_count": 14,
   "metadata": {},
   "outputs": [],
   "source": [
    "from sklearn.neighbors import KNeighborsClassifier\n",
    "import pickle"
   ]
  },
  {
   "cell_type": "markdown",
   "metadata": {},
   "source": [
    "<div dir=\"rtl\">חלוקת הנתונים לקלט ופלט רצוי</div>"
   ]
  },
  {
   "cell_type": "code",
   "execution_count": 15,
   "metadata": {},
   "outputs": [],
   "source": [
    "X_train = train_df.loc[:, train_df.columns != 'emotion'].values\n",
    "y_train = train_df['emotion'].values"
   ]
  },
  {
   "cell_type": "code",
   "execution_count": 16,
   "metadata": {},
   "outputs": [],
   "source": [
    "X_test = train_df.loc[:, train_df.columns != 'emotion'].values\n",
    "y_test = train_df['emotion'].values"
   ]
  },
  {
   "cell_type": "markdown",
   "metadata": {},
   "source": [
    "<div dir=\"rtl\">אימון המודל עם היפרפרמטר k בטווח בין 1 ל-53</div>"
   ]
  },
  {
   "cell_type": "code",
   "execution_count": 17,
   "metadata": {},
   "outputs": [
    {
     "name": "stdout",
     "output_type": "stream",
     "text": [
      "calculating...\n",
      "[▯▮▯▮▯▮▯▮▯▮▯▮▯▮▯▮▯▮▯▮▯▮▯▮▯▮▯▮▯▮▯▮▯▮▯▮▯▮▯▮▯▮▯▮▯▮▯▮▯▮▯▮▯▮]\n"
     ]
    },
    {
     "data": {
      "text/html": [
       "<div>\n",
       "<style scoped>\n",
       "    .dataframe tbody tr th:only-of-type {\n",
       "        vertical-align: middle;\n",
       "    }\n",
       "\n",
       "    .dataframe tbody tr th {\n",
       "        vertical-align: top;\n",
       "    }\n",
       "\n",
       "    .dataframe thead th {\n",
       "        text-align: right;\n",
       "    }\n",
       "</style>\n",
       "<table border=\"1\" class=\"dataframe\">\n",
       "  <thead>\n",
       "    <tr style=\"text-align: right;\">\n",
       "      <th></th>\n",
       "      <th>k</th>\n",
       "      <th>accuracy</th>\n",
       "    </tr>\n",
       "  </thead>\n",
       "  <tbody>\n",
       "    <tr>\n",
       "      <th>0</th>\n",
       "      <td>1.0</td>\n",
       "      <td>0.997670</td>\n",
       "    </tr>\n",
       "    <tr>\n",
       "      <th>1</th>\n",
       "      <td>3.0</td>\n",
       "      <td>0.653966</td>\n",
       "    </tr>\n",
       "    <tr>\n",
       "      <th>2</th>\n",
       "      <td>5.0</td>\n",
       "      <td>0.596814</td>\n",
       "    </tr>\n",
       "    <tr>\n",
       "      <th>3</th>\n",
       "      <td>7.0</td>\n",
       "      <td>0.559952</td>\n",
       "    </tr>\n",
       "    <tr>\n",
       "      <th>4</th>\n",
       "      <td>9.0</td>\n",
       "      <td>0.536505</td>\n",
       "    </tr>\n",
       "    <tr>\n",
       "      <th>5</th>\n",
       "      <td>11.0</td>\n",
       "      <td>0.523616</td>\n",
       "    </tr>\n",
       "    <tr>\n",
       "      <th>6</th>\n",
       "      <td>13.0</td>\n",
       "      <td>0.512494</td>\n",
       "    </tr>\n",
       "    <tr>\n",
       "      <th>7</th>\n",
       "      <td>15.0</td>\n",
       "      <td>0.504828</td>\n",
       "    </tr>\n",
       "    <tr>\n",
       "      <th>8</th>\n",
       "      <td>17.0</td>\n",
       "      <td>0.494721</td>\n",
       "    </tr>\n",
       "    <tr>\n",
       "      <th>9</th>\n",
       "      <td>19.0</td>\n",
       "      <td>0.488934</td>\n",
       "    </tr>\n",
       "    <tr>\n",
       "      <th>10</th>\n",
       "      <td>21.0</td>\n",
       "      <td>0.483749</td>\n",
       "    </tr>\n",
       "    <tr>\n",
       "      <th>11</th>\n",
       "      <td>23.0</td>\n",
       "      <td>0.480104</td>\n",
       "    </tr>\n",
       "    <tr>\n",
       "      <th>12</th>\n",
       "      <td>25.0</td>\n",
       "      <td>0.476985</td>\n",
       "    </tr>\n",
       "    <tr>\n",
       "      <th>13</th>\n",
       "      <td>27.0</td>\n",
       "      <td>0.472739</td>\n",
       "    </tr>\n",
       "    <tr>\n",
       "      <th>14</th>\n",
       "      <td>29.0</td>\n",
       "      <td>0.470860</td>\n",
       "    </tr>\n",
       "    <tr>\n",
       "      <th>15</th>\n",
       "      <td>31.0</td>\n",
       "      <td>0.466764</td>\n",
       "    </tr>\n",
       "    <tr>\n",
       "      <th>16</th>\n",
       "      <td>33.0</td>\n",
       "      <td>0.463570</td>\n",
       "    </tr>\n",
       "    <tr>\n",
       "      <th>17</th>\n",
       "      <td>35.0</td>\n",
       "      <td>0.461504</td>\n",
       "    </tr>\n",
       "    <tr>\n",
       "      <th>18</th>\n",
       "      <td>37.0</td>\n",
       "      <td>0.460076</td>\n",
       "    </tr>\n",
       "    <tr>\n",
       "      <th>19</th>\n",
       "      <td>39.0</td>\n",
       "      <td>0.455454</td>\n",
       "    </tr>\n",
       "    <tr>\n",
       "      <th>20</th>\n",
       "      <td>41.0</td>\n",
       "      <td>0.455191</td>\n",
       "    </tr>\n",
       "    <tr>\n",
       "      <th>21</th>\n",
       "      <td>43.0</td>\n",
       "      <td>0.453275</td>\n",
       "    </tr>\n",
       "    <tr>\n",
       "      <th>22</th>\n",
       "      <td>45.0</td>\n",
       "      <td>0.450306</td>\n",
       "    </tr>\n",
       "    <tr>\n",
       "      <th>23</th>\n",
       "      <td>47.0</td>\n",
       "      <td>0.448803</td>\n",
       "    </tr>\n",
       "    <tr>\n",
       "      <th>24</th>\n",
       "      <td>49.0</td>\n",
       "      <td>0.447263</td>\n",
       "    </tr>\n",
       "    <tr>\n",
       "      <th>25</th>\n",
       "      <td>51.0</td>\n",
       "      <td>0.445346</td>\n",
       "    </tr>\n",
       "    <tr>\n",
       "      <th>26</th>\n",
       "      <td>53.0</td>\n",
       "      <td>0.445008</td>\n",
       "    </tr>\n",
       "  </tbody>\n",
       "</table>\n",
       "</div>"
      ],
      "text/plain": [
       "       k  accuracy\n",
       "0    1.0  0.997670\n",
       "1    3.0  0.653966\n",
       "2    5.0  0.596814\n",
       "3    7.0  0.559952\n",
       "4    9.0  0.536505\n",
       "5   11.0  0.523616\n",
       "6   13.0  0.512494\n",
       "7   15.0  0.504828\n",
       "8   17.0  0.494721\n",
       "9   19.0  0.488934\n",
       "10  21.0  0.483749\n",
       "11  23.0  0.480104\n",
       "12  25.0  0.476985\n",
       "13  27.0  0.472739\n",
       "14  29.0  0.470860\n",
       "15  31.0  0.466764\n",
       "16  33.0  0.463570\n",
       "17  35.0  0.461504\n",
       "18  37.0  0.460076\n",
       "19  39.0  0.455454\n",
       "20  41.0  0.455191\n",
       "21  43.0  0.453275\n",
       "22  45.0  0.450306\n",
       "23  47.0  0.448803\n",
       "24  49.0  0.447263\n",
       "25  51.0  0.445346\n",
       "26  53.0  0.445008"
      ]
     },
     "execution_count": 17,
     "metadata": {},
     "output_type": "execute_result"
    }
   ],
   "source": [
    "k_neighbors_test_df = pd.DataFrame({\"k\": [], \"accuracy\": []})\n",
    "min_k, max_k, step = 1, 53, 2\n",
    "print(\"calculating...\")\n",
    "print(\"[\", end=\"\")\n",
    "for k in range(min_k, max_k+step, step):\n",
    "    test_knn = KNeighborsClassifier(n_neighbors=k)\n",
    "    test_knn.fit(X_train, y_train)\n",
    "    print(\"▯\",end=\"\")\n",
    "    accuracy = test_knn.score(X_test, y_test)\n",
    "    print(\"▮\",end=\"\")\n",
    "    \n",
    "    k_neighbors_test_df = k_neighbors_test_df.append(\n",
    "        {\"k\": k, \"accuracy\": accuracy}, ignore_index=True\n",
    "    )\n",
    "print(\"]\")\n",
    "k_neighbors_test_df\n"
   ]
  },
  {
   "cell_type": "markdown",
   "metadata": {},
   "source": [
    "<div dir=\"rtl\">ויזואליזציה של דיוק המודל עם היפרפרמטרים k שונים</div>"
   ]
  },
  {
   "cell_type": "code",
   "execution_count": 18,
   "metadata": {},
   "outputs": [
    {
     "data": {
      "image/png": "[encoded data removed]",
      "text/plain": [
       "<Figure size 432x288 with 1 Axes>"
      ]
     },
     "metadata": {},
     "output_type": "display_data"
    }
   ],
   "source": [
    "sns.lineplot(data=k_neighbors_test_df, x=\"k\", y=\"accuracy\")\n",
    "plt.show()"
   ]
  },
  {
   "cell_type": "markdown",
   "metadata": {},
   "source": [
    "<div dir=\"rtl\">\n",
    "    הגרף שקיבלנו מאוד דומה למינוס פונקציה לוגריתמית, כלומר, *y=-log(x).\n",
    "</div>"
   ]
  },
  {
   "cell_type": "code",
   "execution_count": 19,
   "metadata": {},
   "outputs": [
    {
     "data": {
      "image/png": "[encoded data removed]",
      "text/plain": [
       "<Figure size 432x288 with 1 Axes>"
      ]
     },
     "metadata": {},
     "output_type": "display_data"
    }
   ],
   "source": [
    "import math\n",
    "\n",
    "k_values = k_neighbors_test_df[\"k\"].values\n",
    "plt.plot(k_values, [-math.log(k) for k in k_values], c=\"darkorange\")\n",
    "plt.show()"
   ]
  },
  {
   "cell_type": "markdown",
   "metadata": {},
   "source": [
    "<div dir=\"rtl\">\n",
    "ואם נשחק קצת עם המספרים נקבל:\n",
    "</div>"
   ]
  },
  {
   "cell_type": "code",
   "execution_count": 20,
   "metadata": {},
   "outputs": [
    {
     "data": {
      "image/png": "[encoded data removed]",
      "text/plain": [
       "<Figure size 432x288 with 2 Axes>"
      ]
     },
     "metadata": {},
     "output_type": "display_data"
    },
    {
     "data": {
      "image/png": "[encoded data removed]",
      "text/plain": [
       "<Figure size 432x288 with 1 Axes>"
      ]
     },
     "metadata": {},
     "output_type": "display_data"
    }
   ],
   "source": [
    "\n",
    "\n",
    "k_values = k_neighbors_test_df[\"k\"].values\n",
    "\n",
    "_, axarr = plt.subplots(1, 2)\n",
    "sns.lineplot(data=k_neighbors_test_df, x=\"k\", y=\"accuracy\", ax=axarr[0])\n",
    "axarr[1].plot(k_values, [-0.07*math.log(1.52*k-1.5)+0.72 for k in k_values], c=\"darkorange\")\n",
    "plt.show()\n",
    "\n",
    "sns.lineplot(data=k_neighbors_test_df, x=\"k\", y=\"accuracy\")\n",
    "plt.plot(k_values, [-0.07*math.log(1.52*k-1.5)+0.72 for k in k_values], c=\"darkorange\")\n",
    "plt.show()\n"
   ]
  },
  {
   "cell_type": "markdown",
   "metadata": {},
   "source": [
    "<div dir=\"rtl\">\n",
    "כמו שניתן לראות פונקציה זו תרד בירידה לוגריתמית ולכן נבחר בערך k הנמוך ביותר, k=1\n",
    "</div>"
   ]
  },
  {
   "cell_type": "code",
   "execution_count": 21,
   "metadata": {},
   "outputs": [],
   "source": [
    "KNN = None\n",
    "if os.path.exists(\"animi_motus.ai\"):\n",
    "    with open(\"animi_motus.ai\", \"rb\") as f:\n",
    "        KNN = pickle.load(f)\n",
    "else:\n",
    "    KNN = KNeighborsClassifier(n_neighbors=1)\n",
    "    KNN.fit(X_train, y_train)"
   ]
  },
  {
   "cell_type": "markdown",
   "metadata": {},
   "source": [
    "<div dir=\"rtl\">שמירת המודל בקובץ</div>"
   ]
  },
  {
   "cell_type": "code",
   "execution_count": 22,
   "metadata": {},
   "outputs": [],
   "source": [
    "if not os.path.exists(\"animi_motus.ai\"):\n",
    "    with open(\"animi_motus.ai\", \"wb\") as f:\n",
    "        pickle.dump(KNN, f)"
   ]
  },
  {
   "cell_type": "markdown",
   "metadata": {},
   "source": [
    "<h3 align=\"center\"><u>Testing the KNN model</u></h3>"
   ]
  },
  {
   "cell_type": "markdown",
   "metadata": {},
   "source": [
    "<div dir=\"rtl\">יבוא ספריות לבדיקת המודל</div>"
   ]
  },
  {
   "cell_type": "code",
   "execution_count": 23,
   "metadata": {},
   "outputs": [],
   "source": [
    "from sklearn.metrics import ConfusionMatrixDisplay"
   ]
  },
  {
   "cell_type": "markdown",
   "metadata": {},
   "source": [
    "<div dir=\"rtl\">חישוב הדיוק וויזואליזציה של בדיקת המודל</div>"
   ]
  },
  {
   "cell_type": "code",
   "execution_count": 24,
   "metadata": {},
   "outputs": [
    {
     "name": "stdout",
     "output_type": "stream",
     "text": [
      "Accuracy:  0.9976703115018976\n"
     ]
    }
   ],
   "source": [
    "print(\"Accuracy: \", KNN.score(X_test, y_test))"
   ]
  },
  {
   "cell_type": "code",
   "execution_count": 25,
   "metadata": {},
   "outputs": [
    {
     "data": {
      "image/png": "[encoded data removed]",
      "text/plain": [
       "<Figure size 432x288 with 2 Axes>"
      ]
     },
     "metadata": {},
     "output_type": "display_data"
    }
   ],
   "source": [
    "ConfusionMatrixDisplay.from_estimator(KNN, X_test, y_test)\n",
    "plt.show()"
   ]
  },
  {
   "cell_type": "markdown",
   "metadata": {},
   "source": [
    "<div dir=\"rtl\">כדי לבדוק האם המודל יעבוד גם עם תמונות בחיים האמיתיים, צילמתי 4 תמונות ובדקתי האם המודל יזהר את הבעת הפנים שלי, וספוילר.. הוא זיהה את כולם!</div>"
   ]
  },
  {
   "cell_type": "code",
   "execution_count": 26,
   "metadata": {},
   "outputs": [
    {
     "name": "stdout",
     "output_type": "stream",
     "text": [
      "actual: happy, predicted: happy\n",
      "actual: surprise, predicted: surprise\n",
      "actual: neutral, predicted: neutral\n",
      "actual: fear, predicted: fear\n"
     ]
    }
   ],
   "source": [
    "irl_test = [\"happy\", \"surprise\", \"neutral\", \"fear\"]\n",
    "def predict(image):\n",
    "    multi_face_landmarks = find_face(image).multi_face_landmarks\n",
    "    if not multi_face_landmarks:\n",
    "        return -1\n",
    "    y = [i.y for i in multi_face_landmarks[0].landmark]\n",
    "    x = [i.x for i in multi_face_landmarks[0].landmark]\n",
    "    z = [i.z for i in multi_face_landmarks[0].landmark]\n",
    "\n",
    "    X = np.array(list(zip(x, y, z))).reshape(-1)\n",
    "    return all_emotion_types[int(KNN.predict([X])[0])]\n",
    "for file_name in irl_test:\n",
    "    print(f\"actual: {file_name}, predicted: \" + predict(cv2.imread(f\"irl_test/{file_name}.jpg\")))\n"
   ]
  },
  {
   "cell_type": "markdown",
   "metadata": {},
   "source": [
    "<div dir=\"rtl\">בנוסף היה לי מעניין לדעת איך אחוזי הדיוק משפיעים בk אחר, כמו k=3</div>"
   ]
  },
  {
   "cell_type": "code",
   "execution_count": 27,
   "metadata": {},
   "outputs": [
    {
     "data": {
      "text/plain": [
       "KNeighborsClassifier(n_neighbors=3)"
      ]
     },
     "execution_count": 27,
     "metadata": {},
     "output_type": "execute_result"
    }
   ],
   "source": [
    "KNN3 = KNeighborsClassifier(n_neighbors=3)\n",
    "KNN3.fit(X_train, y_train)"
   ]
  },
  {
   "cell_type": "code",
   "execution_count": 28,
   "metadata": {},
   "outputs": [],
   "source": [
    "def predict3(image):\n",
    "    multi_face_landmarks = find_face(image).multi_face_landmarks\n",
    "    if not multi_face_landmarks:\n",
    "        return -1\n",
    "    y = [i.y for i in multi_face_landmarks[0].landmark]\n",
    "    x = [i.x for i in multi_face_landmarks[0].landmark]\n",
    "    z = [i.z for i in multi_face_landmarks[0].landmark]\n",
    "\n",
    "    X = np.array(list(zip(x, y, z))).reshape(-1)\n",
    "    return all_emotion_types[int(KNN3.predict([X])[0])]"
   ]
  },
  {
   "cell_type": "code",
   "execution_count": 29,
   "metadata": {},
   "outputs": [
    {
     "name": "stdout",
     "output_type": "stream",
     "text": [
      "Test Data Accuracy:  0.6539661067899147\n",
      "irl_image_test: \n",
      "\n",
      "actual: happy, predicted: disgust\n",
      "actual: surprise, predicted: surprise\n",
      "actual: neutral, predicted: neutral\n",
      "actual: fear, predicted: neutral\n"
     ]
    }
   ],
   "source": [
    "print(\"Test Data Accuracy: \", KNN3.score(X_test, y_test))\n",
    "print(\"irl_image_test: \\n\")\n",
    "for file_name in irl_test:\n",
    "    print(f\"actual: {file_name}, predicted: \" + predict3(cv2.imread(f\"irl_test/{file_name}.jpg\")))"
   ]
  },
  {
   "cell_type": "markdown",
   "metadata": {},
   "source": [
    "<hr />\n",
    "<h2 align=\"center\"><u>סיכום</u></h2>\n",
    "\n",
    "<div dir=\"rtl\">\n",
    "    בהתחלה הנתונים שמצאתי היו נתונים גולמיים (raw data), חסרי משמעות ולא היה ניתן להשתמש בהם ללמידת מכונה זו ולכן העברתי אותם לקובץ csv מאיפה היה עכשיו אפשר לטעון אותם לdata frame ולהשתמש בהם באלגוריתם שכן קרוב.\n",
    "    <br />\n",
    "    בעזרת אלגוריתם שכן קרוב בניתי את הוקטורים של נקודות הציון של כל אחד מהפנים המעובדים בתוך הdata frame, אך כדאי לדעת באיזה כמות שכנים להשתמש (k) הייתי צריך למצוא מהו הk שכנים עם דיוק הטוב ביותר לכן בניתי לולאת for אשר בודקת את כל האפשרויות בטווח מ-1 עד 55 וגיליתי שבמקרה הזה k הטוב ביותר, כלומר, k עם דיוק הגבוה ביותר הוא אחד.\n",
    "    <br />\n",
    "    בסוף המחקר בדקתי את המודל שיצרתי והוא סיווג נכון יותר מ 99 אחוז מהבעות פנים של בני אדם שבחיים לא \"ראה\" אותם ובנוסף לכך, גם זיהה את הבעות פנים שלי.\n",
    "\n",
    "\n",
    "</div>"
   ]
  },
  {
   "cell_type": "markdown",
   "metadata": {},
   "source": [
    "<hr />\n",
    "<h2 align=\"center\"><u>רפלקציה</u></h2>\n",
    "\n",
    "<div dir=\"rtl\">\n",
    "    נהניתי מהפרויקט ומהמחקר הזה מכיוון שהנושא מאוד מעניין אותי והיה מאוד כיף ומהנה ללמוד עוד על ענף הטכנולוגי הזה. \n",
    "    <br />\n",
    "    למדתי יותר על גרפים, KNN, פונקציות לוגריתמיות ואפילו על מחלות והפרעות כמו סכיזופרניה ואישיות נרקיסיסטית.\n",
    "    <br />\n",
    "    גיליתי שאלגוריתם שכן קרוב (KNN) עובד על ידי שמירה של וקטורים בזמן הלמידה ואז מציאה של שכנים של וקטורים הקרובים ביותר לנקודה שאותה אנו מנסים לסווג, לפי מספר שכנים קבוע שבחרנו.\n",
    "    הבנתי לעומק איך לסדר לבנות ולהשתמש בקבצים csv ולשלוט עליהם בעזרת ספריה pandas.\n",
    "    הבנתי מה עוברים אנשים עם הפרעות כמו סכיזופרניה ונרקיסיסטיות, באיזה בעיות נתקלים ביום יום ואיך מזהים הבעות פנים.\n",
    "    למדתי איך לחקור ולבדוק את המודל בעזרת נוסחאות וטבלאות כמו Confusion matrix, true ו-false positives ו-negatives, accuracy, precision, recall ו-F1 ואיך לחשב אותם.\n",
    "    <br>\n",
    "    אני מאוד שמח שבחרתי בנושא הזה ומקווה מאוד שהפרויקט שלי יעזור לאנשים עם הפרעות שהוזכרו לעיל.\n",
    "    \n",
    "</div>"
   ]
  }
 ],
 "metadata": {
  "kernelspec": {
   "display_name": "Python 3.10.2 64-bit",
   "language": "python",
   "name": "python3"
  },
  "language_info": {
   "codemirror_mode": {
    "name": "ipython",
    "version": 3
   },
   "file_extension": ".py",
   "mimetype": "text/x-python",
   "name": "python",
   "nbconvert_exporter": "python",
   "pygments_lexer": "ipython3",
   "version": "3.10.2"
  },
  "orig_nbformat": 4,
  "vscode": {
   "interpreter": {
    "hash": "256290e5d779d098235c7da0da63243dc5a2d137c006ed76deee9b7ada065117"
   }
  }
 },
 "nbformat": 4,
 "nbformat_minor": 2
}
