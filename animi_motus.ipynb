{
 "cells": [
  {
   "cell_type": "markdown",
   "metadata": {},
   "source": [
    "<h1 align=\"center\">\n",
    "    <img alt=\"Animi Motus AI Logo\" src=\"images\\logo.png\" width=\"400\" height=\"400\">\n",
    "    \n",
    "    Den Loob - 01.01.1970\n",
    "</h1>\n",
    "\n",
    "<hr />\n",
    "\n",
    "<div dir=\"rtl\">\n",
    "    <h2 align=\"center\"><u>מטרת המחקר</u></h2>\n",
    "    <div align=\"center\">\n",
    "    מטרת המחקר בשם Animi Motus* לעזור לאנשים עם הפרעות בזיהוי הבעות פנים. דוגמאות להפרעות כאלה הן \n",
    "    <a href=\"https://www.ncbi.nlm.nih.gov/pmc/articles/PMC2737612/#b43\">הפרעה דכאונית קשה</a>\n",
    "    ו<a href=\"https://www.ncbi.nlm.nih.gov/pmc/articles/PMC2737612/#b32\">סכיזופרניה</a>.\n",
    "    </div>\n",
    "\n",
    "\\* משמעות של *\"Animi Motus\"* הינה *\"רגשות\"* בלטינית\n",
    "</div>"
   ]
  }
 ],
 "metadata": {
  "kernelspec": {
   "display_name": "Python 3.10.2 64-bit",
   "language": "python",
   "name": "python3"
  },
  "language_info": {
   "codemirror_mode": {
    "name": "ipython",
    "version": 3
   },
   "file_extension": ".py",
   "mimetype": "text/x-python",
   "name": "python",
   "nbconvert_exporter": "python",
   "pygments_lexer": "ipython3",
   "version": "3.10.2"
  },
  "orig_nbformat": 4,
  "vscode": {
   "interpreter": {
    "hash": "256290e5d779d098235c7da0da63243dc5a2d137c006ed76deee9b7ada065117"
   }
  }
 },
 "nbformat": 4,
 "nbformat_minor": 2
}
